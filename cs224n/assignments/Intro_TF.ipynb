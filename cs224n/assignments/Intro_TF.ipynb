{
 "cells": [
  {
   "cell_type": "markdown",
   "metadata": {},
   "source": [
    "Read for more\n",
    "https://github.com/yuwei2341/nlp/blob/master/cs224n/slides/6_Introduction_to_TensorFlow.pdf"
   ]
  },
  {
   "cell_type": "markdown",
   "metadata": {},
   "source": [
    "# Concept\n",
    "1. Big idea: express a numeric computation as a graph\n",
    "    1. Nodes are operations which have any number of inputs and outputs\n",
    "    2. Edges are tensors which flow between nodes\n",
    "2. Nodes \n",
    "    1. Variable - Stateful nodes which output their current value - (weights) - operation y=x\n",
    "    2. Placeholders - Nodes whose value is fed at execution time (inputs, labels, …)\n",
    "    3. Math operations - Add, MatMul, ReLU, etc\n",
    "3. Session\n",
    "    1. A binding to a particular execution context (CPU, GPU, etc.)\n"
   ]
  },
  {
   "cell_type": "code",
   "execution_count": 14,
   "metadata": {},
   "outputs": [],
   "source": [
    "import numpy as np\n",
    "import tensorflow as tf"
   ]
  },
  {
   "cell_type": "code",
   "execution_count": 143,
   "metadata": {},
   "outputs": [],
   "source": [
    "n_features = 20\n",
    "n_batch = 10\n",
    "n_y_dim = 2"
   ]
  },
  {
   "cell_type": "code",
   "execution_count": 144,
   "metadata": {
    "scrolled": false
   },
   "outputs": [],
   "source": [
    "# define a flow for 1-hidden-layer nn\n",
    "b = tf.Variable(tf.zeros((n_y_dim,)))\n",
    "W = tf.Variable(tf.random_uniform((n_features, n_y_dim), -1, 1))\n",
    "x = tf.placeholder(tf.float32, shape=(n_batch, n_features), name='x')\n",
    "h = tf.nn.relu(tf.matmul(x, W) + b)\n",
    "y = tf.nn.softmax(h, name='y') \n",
    "\n",
    "label = tf.placeholder(tf.float32, [None, n_y_dim])\n",
    "cross_entropy = -tf.reduce_mean(label * tf.log(y), reduction_indices=[1])\n",
    "\n",
    "lr = 0.01\n",
    "train_step = tf.train.GradientDescentOptimizer(lr).minimize(cross_entropy)"
   ]
  },
  {
   "cell_type": "code",
   "execution_count": 145,
   "metadata": {
    "scrolled": false
   },
   "outputs": [],
   "source": [
    "# print(tf.get_default_graph().get_operations()) "
   ]
  },
  {
   "cell_type": "code",
   "execution_count": 147,
   "metadata": {
    "scrolled": false
   },
   "outputs": [
    {
     "name": "stdout",
     "output_type": "stream",
     "text": [
      "loss (CE): 42.8\n",
      "loss (CE): 33.3\n",
      "loss (CE): 33.3\n",
      "loss (CE): 33.3\n",
      "loss (CE): 33.3\n",
      "loss (CE): 33.3\n",
      "loss (CE): 33.3\n",
      "loss (CE): 33.3\n",
      "loss (CE): 33.3\n",
      "loss (CE): 33.3\n"
     ]
    }
   ],
   "source": [
    "WW = np.random.uniform(size=(n_features, n_y_dim))\n",
    "def gen_dataset():\n",
    "    x0 = np.linspace(0, 10, n_features)\n",
    "    x_batch = np.array([x0 + np.random.randn(n_features) for i in range(n_batch)])\n",
    "    label_batch = np.matmul(x_batch, WW) + np.random.randn(n_y_dim)\n",
    "    return x_batch, label_batch\n",
    "\n",
    "batch_x, batch_label = gen_dataset()\n",
    "with tf.Session() as sess:\n",
    "    sess.run(tf.global_variables_initializer())\n",
    "    for i in range(10):        \n",
    "        ce_val, _ = sess.run([cross_entropy, train_step], feed_dict={x: batch_x, label: batch_label})\n",
    "        print('loss (CE): {:.1f}'.format(ce_val.mean()))"
   ]
  },
  {
   "cell_type": "markdown",
   "metadata": {},
   "source": [
    "#### Run tensorboard\n",
    "tensorboard --logdir=\"./graphs\" --port 6006"
   ]
  },
  {
   "cell_type": "code",
   "execution_count": 150,
   "metadata": {},
   "outputs": [
    {
     "name": "stdout",
     "output_type": "stream",
     "text": [
      "5\n"
     ]
    }
   ],
   "source": [
    "a = tf.constant(2,)\n",
    "b = tf.constant(3,)\n",
    "x = tf.add(a, b,)\n",
    "writer = tf.summary.FileWriter('./graphs', tf.get_default_graph())\n",
    "with tf.Session() as sess:\n",
    "     # writer = tf.summary.FileWriter('./graphs', sess.graph)\n",
    "    print(sess.run(x))\n",
    "writer.close()"
   ]
  },
  {
   "cell_type": "code",
   "execution_count": null,
   "metadata": {},
   "outputs": [],
   "source": [
    "import os\n",
    "os.system('tensorboard --logdir=\"./graphs\" --port 6006')"
   ]
  },
  {
   "cell_type": "markdown",
   "metadata": {},
   "source": [
    "variable scope: namespace to avoid crash;"
   ]
  },
  {
   "cell_type": "code",
   "execution_count": 51,
   "metadata": {},
   "outputs": [],
   "source": [
    "with tf.variable_scope('foo'):\n",
    "    v = tf.get_variable('v', shape=[1])\n",
    "\n",
    "with tf.variable_scope('foo', reuse=True):\n",
    "    v1 = tf.get_variable('v') # Shared variable\n",
    "    \n",
    "with tf.variable_scope('foo', reuse=False):\n",
    "    v1 = tf.get_variable('v') # CRASH: Variable foo/v already exists"
   ]
  },
  {
   "cell_type": "code",
   "execution_count": null,
   "metadata": {},
   "outputs": [],
   "source": []
  }
 ],
 "metadata": {
  "kernelspec": {
   "display_name": "Python 3",
   "language": "python",
   "name": "python3"
  },
  "language_info": {
   "codemirror_mode": {
    "name": "ipython",
    "version": 3
   },
   "file_extension": ".py",
   "mimetype": "text/x-python",
   "name": "python",
   "nbconvert_exporter": "python",
   "pygments_lexer": "ipython3",
   "version": "3.6.8"
  }
 },
 "nbformat": 4,
 "nbformat_minor": 2
}
