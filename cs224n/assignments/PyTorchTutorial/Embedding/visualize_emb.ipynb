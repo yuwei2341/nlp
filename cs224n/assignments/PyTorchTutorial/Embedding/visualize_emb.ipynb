{
 "cells": [
  {
   "cell_type": "markdown",
   "metadata": {},
   "source": [
    "# Visualizing Graph Embeddings"
   ]
  },
  {
   "cell_type": "code",
   "execution_count": 1,
   "metadata": {},
   "outputs": [
    {
     "name": "stderr",
     "output_type": "stream",
     "text": [
      "Installing package into ‘/home/bogdan/R/x86_64-pc-linux-gnu-library/3.4’\n",
      "(as ‘lib’ is unspecified)\n",
      "Installing package into ‘/home/bogdan/R/x86_64-pc-linux-gnu-library/3.4’\n",
      "(as ‘lib’ is unspecified)\n",
      "Installing package into ‘/home/bogdan/R/x86_64-pc-linux-gnu-library/3.4’\n",
      "(as ‘lib’ is unspecified)\n",
      "Skipping install of 'gganimate' from a github remote, the SHA1 (bf820020) has not changed since last install.\n",
      "  Use `force = TRUE` to force installation\n",
      "Installing package into ‘/home/bogdan/R/x86_64-pc-linux-gnu-library/3.4’\n",
      "(as ‘lib’ is unspecified)\n",
      "Installing package into ‘/home/bogdan/R/x86_64-pc-linux-gnu-library/3.4’\n",
      "(as ‘lib’ is unspecified)\n"
     ]
    }
   ],
   "source": [
    "install.packages('ggplot2')\n",
    "install.packages('intergraph')\n",
    "install.packages('ggnetwork')\n",
    "devtools::install_github(\"dgrtwo/gganimate\")\n",
    "install.packages('igraph')\n",
    "install.packages('data.table')\n",
    "\n",
    "# with credit to:\n",
    "# https://github.com/jalapic/rmeetup_examples/blob/master/ggnetwork_gganimate.R"
   ]
  },
  {
   "cell_type": "code",
   "execution_count": 2,
   "metadata": {},
   "outputs": [
    {
     "name": "stderr",
     "output_type": "stream",
     "text": [
      "\n",
      "Attaching package: ‘igraph’\n",
      "\n",
      "The following objects are masked from ‘package:stats’:\n",
      "\n",
      "    decompose, spectrum\n",
      "\n",
      "The following object is masked from ‘package:base’:\n",
      "\n",
      "    union\n",
      "\n"
     ]
    }
   ],
   "source": [
    "library('ggplot2')\n",
    "library('intergraph')\n",
    "library('gganimate')\n",
    "library('igraph')\n",
    "library('data.table')\n",
    "library(\"ggnetwork\")"
   ]
  },
  {
   "cell_type": "code",
   "execution_count": 3,
   "metadata": {},
   "outputs": [
    {
     "ename": "ERROR",
     "evalue": "Error in fread(EMB_FILE): File 'embedded_graph.tsv' does not exist; getwd()=='/home/bogdan/projects/uchicago-tutorial'. Include correct full path, or one or more spaces to consider the input a system command.\n",
     "output_type": "error",
     "traceback": [
      "Error in fread(EMB_FILE): File 'embedded_graph.tsv' does not exist; getwd()=='/home/bogdan/projects/uchicago-tutorial'. Include correct full path, or one or more spaces to consider the input a system command.\nTraceback:\n",
      "1. fread(EMB_FILE)",
      "2. stop(\"File '\", input, \"' does not exist; getwd()=='\", getwd(), \n .     \"'\", \". Include correct full path, or one or more spaces to consider the input a system command.\")"
     ]
    }
   ],
   "source": [
    "DATA_PATH = '/data/snap/'\n",
    "FILE_NAME = 'email-Eu-core.txt'\n",
    "\n",
    "EMB_FILE = 'embedded_graph.tsv'\n",
    "\n",
    "nodes <- fread(EMB_FILE)\n",
    "setnames(nodes, names(nodes), c(\"epoch\", \"node_id\", \"x\", \"y\"))\n",
    "\n",
    "edges <- fread(paste0(DATA_PATH, FILE_NAME))\n",
    "setnames(edges, names(edges), c(\"node1\", \"node2\"))"
   ]
  },
  {
   "cell_type": "code",
   "execution_count": null,
   "metadata": {},
   "outputs": [],
   "source": [
    "print(head(nodes))\n",
    "print(head(edges))"
   ]
  },
  {
   "cell_type": "code",
   "execution_count": null,
   "metadata": {
    "collapsed": true
   },
   "outputs": [],
   "source": [
    "setnames(edges, \"node1\", \"node_id\")\n",
    "setkey(edges, node_id)\n",
    "setkey(nodes, node_id)\n",
    "edges <- merge(edges, nodes, allow.cartesian=TRUE)\n"
   ]
  },
  {
   "cell_type": "code",
   "execution_count": null,
   "metadata": {
    "collapsed": true
   },
   "outputs": [],
   "source": [
    "setnames(edges, c(\"node2\", \"node_id\"), c(\"node_id\", \"node1\"))\n",
    "setnames(nodes, c(\"x\", \"y\"), c(\"xend\", \"yend\"))\n",
    "setkey(edges, node_id, epoch)\n",
    "setkey(nodes, node_id, epoch)\n",
    "edges <- merge(edges, nodes)"
   ]
  },
  {
   "cell_type": "code",
   "execution_count": null,
   "metadata": {},
   "outputs": [],
   "source": [
    "print(head(edges))"
   ]
  },
  {
   "cell_type": "code",
   "execution_count": null,
   "metadata": {
    "collapsed": true
   },
   "outputs": [],
   "source": [
    "p <- ggplot(subset(edges, epoch==0), aes(x = x, y = y, xend = xend, yend = yend))\n",
    "p <- p + geom_edges(color = \"black\", alpha=0.01)"
   ]
  },
  {
   "cell_type": "markdown",
   "metadata": {},
   "source": [
    "We can visualize the original layout, which is sampled from a Gaussian distribution centered around zero."
   ]
  },
  {
   "cell_type": "code",
   "execution_count": null,
   "metadata": {},
   "outputs": [],
   "source": [
    "print(p)"
   ]
  },
  {
   "cell_type": "code",
   "execution_count": null,
   "metadata": {},
   "outputs": [],
   "source": [
    "p <- ggplot(subset(edges, epoch==99), aes(x = x, y = y, xend = xend, yend = yend))\n",
    "p <- p + geom_edges(color = \"black\", alpha=0.01)\n",
    "print(p)"
   ]
  },
  {
   "cell_type": "code",
   "execution_count": 17,
   "metadata": {},
   "outputs": [
    {
     "name": "stderr",
     "output_type": "stream",
     "text": [
      "Executing: \n",
      "convert -loop 0 -delay 25 Rplot1.png Rplot2.png Rplot3.png Rplot4.png\n",
      "    Rplot5.png Rplot6.png Rplot7.png Rplot8.png Rplot9.png Rplot10.png\n",
      "    Rplot11.png Rplot12.png Rplot13.png Rplot14.png Rplot15.png\n",
      "    Rplot16.png Rplot17.png Rplot18.png Rplot19.png Rplot20.png\n",
      "    Rplot21.png Rplot22.png Rplot23.png Rplot24.png Rplot25.png\n",
      "    Rplot26.png Rplot27.png Rplot28.png Rplot29.png Rplot30.png\n",
      "    Rplot31.png Rplot32.png Rplot33.png Rplot34.png Rplot35.png\n",
      "    Rplot36.png Rplot37.png Rplot38.png Rplot39.png Rplot40.png\n",
      "    Rplot41.png Rplot42.png Rplot43.png Rplot44.png Rplot45.png\n",
      "    Rplot46.png Rplot47.png Rplot48.png Rplot49.png Rplot50.png\n",
      "    Rplot51.png Rplot52.png Rplot53.png Rplot54.png Rplot55.png\n",
      "    Rplot56.png Rplot57.png Rplot58.png Rplot59.png Rplot60.png\n",
      "    Rplot61.png Rplot62.png Rplot63.png Rplot64.png Rplot65.png\n",
      "    Rplot66.png Rplot67.png Rplot68.png Rplot69.png Rplot70.png\n",
      "    Rplot71.png Rplot72.png Rplot73.png Rplot74.png Rplot75.png\n",
      "    Rplot76.png Rplot77.png Rplot78.png Rplot79.png Rplot80.png\n",
      "    Rplot81.png Rplot82.png Rplot83.png Rplot84.png Rplot85.png\n",
      "    Rplot86.png Rplot87.png Rplot88.png Rplot89.png Rplot90.png\n",
      "    Rplot91.png Rplot92.png Rplot93.png Rplot94.png Rplot95.png\n",
      "    Rplot96.png Rplot97.png Rplot98.png Rplot99.png Rplot100.png\n",
      "    'embedding_animation.gif'\n",
      "Output at: embedding_animation.gif\n"
     ]
    },
    {
     "data": {},
     "metadata": {},
     "output_type": "display_data"
    }
   ],
   "source": [
    "p <- ggplot(edges, aes(x = x, y = y, xend = xend, yend = yend, frame=epoch))\n",
    "p <- p + geom_edges(color = \"black\", alpha=0.01)\n",
    "\n",
    "animation::ani.options(interval=0.25)\n",
    "\n",
    "# make sure ffmpeg is installed\n",
    "gganimate(p, 'embedding_animation.gif', title_frame = FALSE, saver='gif')\n"
   ]
  },
  {
   "cell_type": "code",
   "execution_count": 14,
   "metadata": {
    "collapsed": true
   },
   "outputs": [],
   "source": []
  },
  {
   "cell_type": "code",
   "execution_count": null,
   "metadata": {
    "collapsed": true
   },
   "outputs": [],
   "source": []
  }
 ],
 "metadata": {
  "kernelspec": {
   "display_name": "R",
   "language": "R",
   "name": "ir"
  },
  "language_info": {
   "codemirror_mode": "r",
   "file_extension": ".r",
   "mimetype": "text/x-r-source",
   "name": "R",
   "pygments_lexer": "r",
   "version": "3.4.4"
  }
 },
 "nbformat": 4,
 "nbformat_minor": 2
}
