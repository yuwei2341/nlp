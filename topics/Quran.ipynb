{
 "cells": [
  {
   "cell_type": "markdown",
   "metadata": {
    "deletable": true,
    "editable": true
   },
   "source": [
    "# Topics in English Quran"
   ]
  },
  {
   "cell_type": "code",
   "execution_count": 1,
   "metadata": {
    "collapsed": true,
    "deletable": true,
    "editable": true
   },
   "outputs": [],
   "source": [
    "import glob\n",
    "\n",
    "from nltk.tokenize import RegexpTokenizer\n",
    "from nltk.corpus import stopwords\n",
    "from nltk.stem.lancaster import LancasterStemmer\n",
    "# from nltk.cluster import KMeansClusterer, euclidean_distance\n",
    "# from gensim import corpora, models, utils\n",
    "from numpy import array\n",
    "from gensim import corpora, models\n"
   ]
  },
  {
   "cell_type": "code",
   "execution_count": 7,
   "metadata": {
    "collapsed": false,
    "deletable": true,
    "editable": true
   },
   "outputs": [
    {
     "name": "stdout",
     "output_type": "stream",
     "text": [
      "showing info https://raw.githubusercontent.com/nltk/nltk_data/gh-pages/index.xml\n"
     ]
    },
    {
     "data": {
      "text/plain": [
       "True"
      ]
     },
     "execution_count": 7,
     "metadata": {},
     "output_type": "execute_result"
    }
   ],
   "source": [
    "import nltk\n",
    "nltk.download()"
   ]
  },
  {
   "cell_type": "markdown",
   "metadata": {
    "deletable": true,
    "editable": true
   },
   "source": [
    "### Downloaded http://www.clearquran.com/"
   ]
  },
  {
   "cell_type": "code",
   "execution_count": 42,
   "metadata": {
    "collapsed": true,
    "deletable": true,
    "editable": true
   },
   "outputs": [],
   "source": [
    "data_folder = '../data/quran-verse-by-verse-text/'\n",
    "\n",
    "documents = [] # chapters->verses\n",
    "for chapter in range(1, 115):\n",
    "    files = sorted(glob.glob(data_folder + str(chapter).zfill(3) + '*'))\n",
    "    verses = [open(f, 'r').read() for f in files]\n",
    "    documents.append(verses)"
   ]
  },
  {
   "cell_type": "code",
   "execution_count": 43,
   "metadata": {
    "collapsed": false,
    "deletable": true,
    "editable": true
   },
   "outputs": [],
   "source": [
    "# Remove non ascii and change to lower case; not necessary with RegexpTokenizer(r'\\w+')\n",
    "docs = [jj.decode('utf8').encode('ascii', errors='ignore').lower() for ii in documents for jj in ii]"
   ]
  },
  {
   "cell_type": "code",
   "execution_count": 44,
   "metadata": {
    "collapsed": false,
    "deletable": true,
    "editable": true
   },
   "outputs": [],
   "source": [
    "# removing whitespaces, punctuations, stopwords, and stemming words\n",
    "# https://gist.github.com/sangheestyle/8691435\n",
    "processed = []\n",
    "tokenizer = RegexpTokenizer(r'\\w+')\n",
    "stop = stopwords.words('english')\n",
    "\n",
    "# Remove god and lord\n",
    "stop += ['god', 'lord']\n",
    "\n",
    "for document in docs:\n",
    "    intermediate = tokenizer.tokenize(document)    \n",
    "    intermediate = [i for i in intermediate if i not in stop]\n",
    "    # FIXME: using other stemmers also to know quality of each stemmed text\n",
    "    lanste = LancasterStemmer()\n",
    "    intermediate = [lanste.stem(i) for i in intermediate]\n",
    "    processed.append(intermediate)"
   ]
  },
  {
   "cell_type": "code",
   "execution_count": 10,
   "metadata": {
    "collapsed": false,
    "deletable": true,
    "editable": true
   },
   "outputs": [],
   "source": [
    "# making dictionary and corpus\n",
    "dictionary = corpora.Dictionary(processed)\n",
    "#dictionary.save('/tmp/dict.dict')\n",
    "corpus = [dictionary.doc2bow(text) for text in processed]\n",
    "#corpora.MmCorpus.serialize('/tmp/temp.mm', corpus)"
   ]
  },
  {
   "cell_type": "code",
   "execution_count": 11,
   "metadata": {
    "collapsed": false,
    "deletable": true,
    "editable": true
   },
   "outputs": [],
   "source": [
    "# LDA modeling\n",
    "lda = models.LdaModel(corpus, id2word=dictionary, num_topics=11, passes=10)\n",
    "corpus_lda = lda[corpus] # create a double wrapper over the original corpus: bow->tfidf->fold-in-lsi"
   ]
  },
  {
   "cell_type": "code",
   "execution_count": 12,
   "metadata": {
    "collapsed": true,
    "deletable": true,
    "editable": true
   },
   "outputs": [],
   "source": [
    "a = lda.print_topics(num_topics=-1, num_words=7)"
   ]
  },
  {
   "cell_type": "code",
   "execution_count": 25,
   "metadata": {
    "collapsed": false,
    "deletable": true,
    "editable": true
   },
   "outputs": [
    {
     "data": {
      "text/plain": [
       "['in the name of god, the gracious, the merciful.',\n",
       " 'praise be to god, lord of the worlds.',\n",
       " 'the most gracious, the most merciful.',\n",
       " 'the path of those you have blessed, not of those against whom there is anger, nor of those who are misguided.',\n",
       " 'guide us to the straight path.',\n",
       " 'master of the day of judgment.',\n",
       " 'it is you we worship, and upon you we call for help.',\n",
       " 'it is decreed for you: when death approaches one of you, and he leaves wealth, to make a testament in favor of the parents and the relatives, fairly and correctlya duty upon the righteous. ',\n",
       " 'the sacred month for the sacred month; and sacrilege calls for retaliation. whoever commits aggression against you, retaliate against him in the same measure as he has committed against you. and be conscious of god, and know that god is with the righteous.',\n",
       " 'thus we made you a moderate community, that you may be witnesses to humanity, and that the messenger may be a witness to you. we only established the direction of prayer, which you once followed, that we may distinguish those who follow the messenger from those who turn on their heels. it is indeed difficult, except for those whom god has guided. but god would never let your faith go to waste. god is kind towards the people, merciful.']"
      ]
     },
     "execution_count": 25,
     "metadata": {},
     "output_type": "execute_result"
    }
   ],
   "source": [
    "docs[:10]"
   ]
  },
  {
   "cell_type": "code",
   "execution_count": 22,
   "metadata": {
    "collapsed": false,
    "deletable": true,
    "editable": true
   },
   "outputs": [
    {
     "name": "stdout",
     "output_type": "stream",
     "text": [
      "[['nam', u'gracy', u'mercy'], ['pra', 'world'], [u'gracy', u'mercy'], ['path', 'bless', 'ang', 'misguid'], ['guid', 'us', 'straight', 'path'], ['mast', 'day', 'judg'], ['wor', 'upon', 'cal', 'help'], ['decree', 'dea', 'approach', 'on', 'leav', 'weal', 'mak', 'testa', 'fav', 'par', 'rel', 'fair', 'correctly', 'duty', 'upon', 'right'], ['sacr', 'mon', 'sacr', 'mon', 'sacrileg', 'cal', u'reta', 'whoev', 'commit', u'aggress', u'reta', 'meas', 'commit', u'conscy', 'know', 'right'], ['thu', 'mad', 'mod', 'commun', 'may', 'wit', 'hum', 'messeng', 'may', 'wit', 'est', 'direct', 'pray', 'follow', 'may', u'distinct', 'follow', 'messeng', 'turn', 'heel', 'indee', 'difficult', u'exceiv', 'guid', 'would', 'nev', 'let', 'fai', 'go', 'wast', 'kind', 'toward', 'peopl', u'mercy']]\n"
     ]
    }
   ],
   "source": [
    "print processed[:10]"
   ]
  },
  {
   "cell_type": "code",
   "execution_count": 17,
   "metadata": {
    "collapsed": false,
    "deletable": true,
    "editable": true
   },
   "outputs": [
    {
     "name": "stdout",
     "output_type": "stream",
     "text": [
      "6348 6348\n"
     ]
    }
   ],
   "source": [
    "print len(corpus), len(corpus_lda)"
   ]
  },
  {
   "cell_type": "code",
   "execution_count": 13,
   "metadata": {
    "collapsed": false,
    "deletable": true,
    "editable": true
   },
   "outputs": [
    {
     "name": "stdout",
     "output_type": "stream",
     "text": [
      "in the name of god, the gracious, the merciful.\n",
      "[(8, 0.7727271975694745), (10, 0.022727347884186636), (5, 0.022727272727404053)]\n",
      "(8, u'0.113*\"mercy\" + 0.090*\"nam\" + 0.082*\"gracy\" + 0.036*\"cre\" + 0.017*\"say\" + 0.015*\"hum\" + 0.014*\"test\"')\n"
     ]
    }
   ],
   "source": [
    "i = 0\n",
    "print docs[i]\n",
    "sorted_rel = sorted(corpus_lda[i], key=lambda x: x[1], reverse=True)\n",
    "print sorted_rel[:3]\n",
    "print a[sorted_rel[0][0]]\n",
    "i += 1"
   ]
  },
  {
   "cell_type": "code",
   "execution_count": 14,
   "metadata": {
    "collapsed": false,
    "deletable": true,
    "editable": true
   },
   "outputs": [
    {
     "data": {
      "text/plain": [
       "[(0,\n",
       "  u'0.061*\"pun\" + 0.022*\"upon\" + 0.020*\"day\" + 0.019*\"wom\" + 0.015*\"cal\" + 0.014*\"around\" + 0.013*\"pain\"'),\n",
       " (1,\n",
       "  u'0.069*\"said\" + 0.035*\"peopl\" + 0.023*\"among\" + 0.022*\"wor\" + 0.022*\"messeng\" + 0.021*\"us\" + 0.016*\"say\"'),\n",
       " (2,\n",
       "  u'0.070*\"know\" + 0.039*\"heart\" + 0.024*\"on\" + 0.022*\"anoth\" + 0.021*\"rev\" + 0.018*\"day\" + 0.015*\"cont\"'),\n",
       " (3,\n",
       "  u'0.024*\"serv\" + 0.022*\"us\" + 0.019*\"believ\" + 0.018*\"return\" + 0.017*\"day\" + 0.016*\"say\" + 0.016*\"pur\"'),\n",
       " (4,\n",
       "  u'0.032*\"guid\" + 0.027*\"say\" + 0.026*\"turn\" + 0.024*\"away\" + 0.019*\"see\" + 0.017*\"would\" + 0.015*\"warn\"'),\n",
       " (5,\n",
       "  u'0.052*\"fir\" + 0.021*\"ent\" + 0.021*\"hel\" + 0.017*\"whoev\" + 0.015*\"therein\" + 0.012*\"crush\" + 0.011*\"hom\"'),\n",
       " (6,\n",
       "  u'0.075*\"ear\" + 0.041*\"heav\" + 0.038*\"say\" + 0.035*\"day\" + 0.028*\"everyth\" + 0.025*\"prom\" + 0.019*\"belong\"'),\n",
       " (7,\n",
       "  u'0.030*\"deny\" + 0.028*\"peopl\" + 0.024*\"night\" + 0.022*\"said\" + 0.019*\"us\" + 0.017*\"childr\" + 0.014*\"leav\"'),\n",
       " (8,\n",
       "  u'0.113*\"mercy\" + 0.090*\"nam\" + 0.082*\"gracy\" + 0.036*\"cre\" + 0.017*\"say\" + 0.015*\"hum\" + 0.014*\"test\"'),\n",
       " (9,\n",
       "  u'0.023*\"cre\" + 0.021*\"wit\" + 0.021*\"sky\" + 0.020*\"remind\" + 0.016*\"sign\" + 0.013*\"bring\" + 0.013*\"set\"'),\n",
       " (10,\n",
       "  u'0.051*\"believ\" + 0.035*\"right\" + 0.032*\"giv\" + 0.031*\"good\" + 0.024*\"forg\" + 0.022*\"reward\" + 0.021*\"exceiv\"')]"
      ]
     },
     "execution_count": 14,
     "metadata": {},
     "output_type": "execute_result"
    }
   ],
   "source": [
    "a"
   ]
  }
 ],
 "metadata": {
  "kernelspec": {
   "display_name": "Python 2",
   "language": "python",
   "name": "python2"
  },
  "language_info": {
   "codemirror_mode": {
    "name": "ipython",
    "version": 2
   },
   "file_extension": ".py",
   "mimetype": "text/x-python",
   "name": "python",
   "nbconvert_exporter": "python",
   "pygments_lexer": "ipython2",
   "version": "2.7.13"
  }
 },
 "nbformat": 4,
 "nbformat_minor": 2
}
