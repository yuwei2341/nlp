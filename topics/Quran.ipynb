{
 "cells": [
  {
   "cell_type": "markdown",
   "metadata": {
    "deletable": true,
    "editable": true
   },
   "source": [
    "# Topics in English Quran"
   ]
  },
  {
   "cell_type": "code",
   "execution_count": 87,
   "metadata": {
    "collapsed": true
   },
   "outputs": [],
   "source": [
    "import glob\n",
    "\n",
    "from nltk.tokenize import RegexpTokenizer\n",
    "from nltk.corpus import stopwords\n",
    "from nltk.stem.lancaster import LancasterStemmer\n",
    "# from nltk.cluster import KMeansClusterer, euclidean_distance\n",
    "# from gensim import corpora, models, utils\n",
    "from numpy import array\n",
    "from gensim import corpora, models\n"
   ]
  },
  {
   "cell_type": "markdown",
   "metadata": {
    "deletable": true,
    "editable": true
   },
   "source": [
    "### Downloaded http://www.clearquran.com/"
   ]
  },
  {
   "cell_type": "code",
   "execution_count": 2,
   "metadata": {
    "collapsed": true
   },
   "outputs": [],
   "source": [
    "data_folder = '../data/quran-verse-by-verse-text/'\n",
    "\n",
    "documents = [] # chapters->verses\n",
    "for chapter in range(1, 115):\n",
    "    files = glob.glob(data_folder + str(chapter).zfill(3) + '*')\n",
    "    verses = [open(f, 'r').read() for f in files]\n",
    "    documents.append(verses)"
   ]
  },
  {
   "cell_type": "code",
   "execution_count": 77,
   "metadata": {
    "collapsed": false
   },
   "outputs": [],
   "source": [
    "# Remove non ascii and change to lower case\n",
    "docs = [jj.decode('utf8').encode('ascii', errors='ignore').lower() for ii in documents for jj in ii]"
   ]
  },
  {
   "cell_type": "code",
   "execution_count": 186,
   "metadata": {
    "collapsed": false
   },
   "outputs": [],
   "source": [
    "# removing whitespaces, punctuations, stopwords, and stemming words\n",
    "# https://gist.github.com/sangheestyle/8691435\n",
    "processed = []\n",
    "tokenizer = RegexpTokenizer(r'\\w+')\n",
    "stop = stopwords.words('english')\n",
    "\n",
    "# Remove god and lord\n",
    "stop += ['god', 'lord']\n",
    "\n",
    "for document in docs:\n",
    "    intermediate = tokenizer.tokenize(document)    \n",
    "    intermediate = [i for i in intermediate if i not in stop]\n",
    "    # FIXME: using other stemmers also to know quality of each stemmed text\n",
    "    lanste = LancasterStemmer()\n",
    "    intermediate = [lanste.stem(i) for i in intermediate]\n",
    "    processed.append(intermediate)"
   ]
  },
  {
   "cell_type": "code",
   "execution_count": 187,
   "metadata": {
    "collapsed": false,
    "deletable": true,
    "editable": true
   },
   "outputs": [],
   "source": [
    "# making dictionary and corpus\n",
    "dictionary = corpora.Dictionary(processed)\n",
    "#dictionary.save('/tmp/dict.dict')\n",
    "corpus = [dictionary.doc2bow(text) for text in processed]\n",
    "#corpora.MmCorpus.serialize('/tmp/temp.mm', corpus)\n"
   ]
  },
  {
   "cell_type": "code",
   "execution_count": 250,
   "metadata": {
    "collapsed": false
   },
   "outputs": [],
   "source": [
    "lda = models.LdaModel(corpus, id2word=dictionary, num_topics=101, passes=10)\n",
    "corpus_lda = lda[corpus] # create a double wrapper over the original corpus: bow->tfidf->fold-in-lsi"
   ]
  },
  {
   "cell_type": "code",
   "execution_count": 254,
   "metadata": {
    "collapsed": true
   },
   "outputs": [],
   "source": [
    "a = lda.print_topics(num_topics=-1, num_words=5)\n",
    "i=0"
   ]
  },
  {
   "cell_type": "code",
   "execution_count": 260,
   "metadata": {
    "collapsed": false
   },
   "outputs": [
    {
     "name": "stdout",
     "output_type": "stream",
     "text": [
      "guide us to the straight path.\n",
      "[(34, 0.60198019801980185), (63, 0.20198019801980194)]\n",
      "(34, u'0.241*\"guid\" + 0.170*\"turn\" + 0.165*\"away\" + 0.061*\"path\" + 0.046*\"inspir\"')\n"
     ]
    }
   ],
   "source": [
    "print docs[i]\n",
    "sorted_rel = sorted(corpus_lda[i], key=lambda x: x[1], reverse=True)\n",
    "print sorted_rel[:3]\n",
    "print a[sorted_rel[0][0]]\n",
    "i += 1"
   ]
  },
  {
   "cell_type": "code",
   "execution_count": 243,
   "metadata": {
    "collapsed": false
   },
   "outputs": [
    {
     "data": {
      "text/plain": [
       "[(0,\n",
       "  u'0.069*\"pray\" + 0.026*\"giv\" + 0.022*\"mad\" + 0.021*\"mat\" + 0.020*\"revel\" + 0.019*\"paty\" + 0.017*\"night\"'),\n",
       " (1,\n",
       "  u'0.032*\"rememb\" + 0.030*\"rev\" + 0.030*\"indee\" + 0.029*\"hum\" + 0.027*\"go\" + 0.024*\"mak\" + 0.023*\"com\"'),\n",
       " (2,\n",
       "  u'0.069*\"deny\" + 0.035*\"wil\" + 0.030*\"light\" + 0.030*\"whomev\" + 0.029*\"pra\" + 0.028*\"day\" + 0.027*\"sign\"'),\n",
       " (3,\n",
       "  u'0.161*\"said\" + 0.041*\"mos\" + 0.025*\"son\" + 0.020*\"fath\" + 0.019*\"two\" + 0.019*\"on\" + 0.016*\"peopl\"'),\n",
       " (4,\n",
       "  u'0.038*\"exceiv\" + 0.036*\"way\" + 0.035*\"scripture\" + 0.032*\"non\" + 0.028*\"toward\" + 0.024*\"giv\" + 0.021*\"bless\"'),\n",
       " (5,\n",
       "  u'0.067*\"guid\" + 0.053*\"sent\" + 0.043*\"tru\" + 0.037*\"peopl\" + 0.035*\"warn\" + 0.033*\"say\" + 0.020*\"consid\"'),\n",
       " (6,\n",
       "  u'0.103*\"disbeliev\" + 0.064*\"see\" + 0.036*\"fir\" + 0.031*\"hel\" + 0.018*\"peopl\" + 0.017*\"put\" + 0.015*\"burn\"'),\n",
       " (7,\n",
       "  u'0.050*\"gard\" + 0.036*\"among\" + 0.029*\"whoev\" + 0.027*\"riv\" + 0.026*\"forev\" + 0.026*\"flow\" + 0.025*\"pleas\"'),\n",
       " (8,\n",
       "  u'0.052*\"forg\" + 0.043*\"heart\" + 0.027*\"path\" + 0.027*\"rep\" + 0.024*\"peopl\" + 0.023*\"work\" + 0.023*\"acceiv\"'),\n",
       " (9,\n",
       "  u'0.032*\"produc\" + 0.031*\"sur\" + 0.028*\"adv\" + 0.022*\"wick\" + 0.021*\"mess\" + 0.021*\"plac\" + 0.019*\"upon\"'),\n",
       " (10,\n",
       "  u'0.183*\"mercy\" + 0.143*\"nam\" + 0.130*\"gracy\" + 0.036*\"night\" + 0.027*\"wor\" + 0.022*\"set\" + 0.015*\"marvel\"'),\n",
       " (11,\n",
       "  u'0.061*\"us\" + 0.043*\"say\" + 0.029*\"pun\" + 0.028*\"believ\" + 0.025*\"messeng\" + 0.025*\"lov\" + 0.021*\"weal\"'),\n",
       " (12,\n",
       "  u'0.056*\"upon\" + 0.053*\"us\" + 0.044*\"cal\" + 0.027*\"com\" + 0.024*\"near\" + 0.022*\"bring\" + 0.022*\"let\"'),\n",
       " (13,\n",
       "  u'0.059*\"fear\" + 0.051*\"right\" + 0.033*\"evil\" + 0.033*\"reward\" + 0.030*\"good\" + 0.029*\"believ\" + 0.028*\"remind\"'),\n",
       " (14,\n",
       "  u'0.036*\"say\" + 0.030*\"follow\" + 0.028*\"would\" + 0.026*\"possess\" + 0.025*\"soul\" + 0.023*\"judg\" + 0.023*\"don\"'),\n",
       " (15,\n",
       "  u'0.092*\"turn\" + 0.076*\"away\" + 0.068*\"day\" + 0.025*\"whatev\" + 0.024*\"fac\" + 0.020*\"wrong\" + 0.018*\"desir\"'),\n",
       " (16,\n",
       "  u'0.048*\"hear\" + 0.043*\"think\" + 0.042*\"lik\" + 0.035*\"said\" + 0.026*\"drink\" + 0.023*\"peopl\" + 0.018*\"giv\"'),\n",
       " (17,\n",
       "  u'0.043*\"wit\" + 0.030*\"reject\" + 0.023*\"help\" + 0.023*\"woe\" + 0.019*\"support\" + 0.019*\"every\" + 0.018*\"crush\"'),\n",
       " (18,\n",
       "  u'0.037*\"serv\" + 0.034*\"day\" + 0.030*\"believ\" + 0.026*\"pun\" + 0.026*\"prom\" + 0.024*\"wom\" + 0.023*\"bet\"'),\n",
       " (19,\n",
       "  u'0.079*\"know\" + 0.040*\"lif\" + 0.021*\"cont\" + 0.019*\"world\" + 0.018*\"heart\" + 0.017*\"giv\" + 0.017*\"day\"'),\n",
       " (20,\n",
       "  u'0.094*\"ear\" + 0.086*\"cre\" + 0.052*\"heav\" + 0.044*\"on\" + 0.033*\"everyth\" + 0.025*\"belong\" + 0.023*\"man\"')]"
      ]
     },
     "execution_count": 243,
     "metadata": {},
     "output_type": "execute_result"
    }
   ],
   "source": [
    "a"
   ]
  },
  {
   "cell_type": "code",
   "execution_count": null,
   "metadata": {
    "collapsed": true
   },
   "outputs": [],
   "source": []
  }
 ],
 "metadata": {
  "kernelspec": {
   "display_name": "Python 2",
   "language": "python",
   "name": "python2"
  },
  "language_info": {
   "codemirror_mode": {
    "name": "ipython",
    "version": 2
   },
   "file_extension": ".py",
   "mimetype": "text/x-python",
   "name": "python",
   "nbconvert_exporter": "python",
   "pygments_lexer": "ipython2",
   "version": "2.7.13"
  }
 },
 "nbformat": 4,
 "nbformat_minor": 2
}
